{
  "cells": [
    {
      "cell_type": "markdown",
      "metadata": {
        "id": "view-in-github",
        "colab_type": "text"
      },
      "source": [
        "<a href=\"https://colab.research.google.com/github/artem-barsov/Numerical-Methods/blob/main/lab1.ipynb\" target=\"_parent\"><img src=\"https://colab.research.google.com/assets/colab-badge.svg\" alt=\"Open In Colab\"/></a>"
      ]
    },
    {
      "cell_type": "code",
      "execution_count": null,
      "metadata": {
        "id": "oE0--tIiH-UH"
      },
      "outputs": [],
      "source": [
        "import numpy as np\n",
        "from math import log10, atan, pi, sin, cos, sqrt"
      ]
    },
    {
      "cell_type": "markdown",
      "metadata": {
        "id": "mnmDfQZO_IDL"
      },
      "source": [
        "#### Форматирование"
      ]
    },
    {
      "cell_type": "code",
      "execution_count": null,
      "metadata": {
        "id": "oaLWS04PSDOW"
      },
      "outputs": [],
      "source": [
        "def get_script(s, script='sup'):\n",
        "    if script == 'sup':\n",
        "        return s.translate(s.maketrans('0123456789', '⁰¹²³⁴⁵⁶⁷⁸⁹'))\n",
        "    if script == 'sub':\n",
        "        return s.translate(s.maketrans('0123456789', '₀₁₂₃₄₅₆₇₈₉'))\n",
        "    return s"
      ]
    },
    {
      "cell_type": "code",
      "execution_count": null,
      "metadata": {
        "id": "Tu_6ByEuUrUu"
      },
      "outputs": [],
      "source": [
        "def polynom2str(a, x = 'x', script='sup'):\n",
        "    s = ''\n",
        "    frm = 0\n",
        "    while a[frm]==0: frm += 1\n",
        "    first_done = False\n",
        "    for i in range(frm, len(a)):\n",
        "        if a[i] == 0: continue\n",
        "        deg = len(a) - i - 1\n",
        "        if first_done:\n",
        "            s += ('+ ' if a[i] > 0 else '- ')\n",
        "        elif a[i] < 0:\n",
        "            s += '-'\n",
        "        first_done = True\n",
        "        if abs(a[i]) != 1 or deg == 0:\n",
        "            s += '%g'%abs(a[i])\n",
        "        if script == 'sup':\n",
        "            if deg > 0:\n",
        "                s += x\n",
        "                if deg != 1:\n",
        "                    s += get_script(str(deg), script)\n",
        "                s += ' '\n",
        "        else:\n",
        "            s += x + get_script(str(i+1), script) + ' '\n",
        "    return s if s!='' else '0'"
      ]
    },
    {
      "cell_type": "code",
      "execution_count": null,
      "metadata": {
        "id": "t-TB4l88Unep"
      },
      "outputs": [],
      "source": [
        "def print_system(a, b):\n",
        "    for i in range(len(a)):\n",
        "        print('{', polynom2str(a[i], script='sub'), '=', b[i])"
      ]
    },
    {
      "cell_type": "code",
      "execution_count": null,
      "metadata": {
        "id": "JHrt_5iSWVnw"
      },
      "outputs": [],
      "source": [
        "def print_x_solution(x, sym = 'x'):\n",
        "    for i in range(1, len(x)+1):\n",
        "        print(f'{sym}{get_script(str(i), \"sub\")} = %g;' % round(x[i-1], 3), end='  ')\n",
        "    print()"
      ]
    },
    {
      "cell_type": "code",
      "source": [
        "def print_vec_solution(x, sym = 'x'):\n",
        "    for i in range(1, len(x)+1):\n",
        "        print(f'{sym}{get_script(str(i), \"sub\")} = {x[i-1]};')\n",
        "    print()"
      ],
      "metadata": {
        "id": "8wq7XW2B89in"
      },
      "execution_count": null,
      "outputs": []
    },
    {
      "cell_type": "code",
      "source": [
        "def print_comp_solution(x, sym = 'x'):\n",
        "    for i in range(1, len(x)+1):\n",
        "        s = str(round(x[i-1][0], 4))\n",
        "        if x[i-1][1] != 0:\n",
        "            if x[i-1][1] < 0: s += ' - ' \n",
        "            else: s += ' + '\n",
        "            s += str(round(abs(x[i-1][1]), 4)) + ' i'\n",
        "        print(f'{sym}{get_script(str(i), \"sub\")} = {s};')\n",
        "    print()"
      ],
      "metadata": {
        "id": "tKqNkPGI5jR5"
      },
      "execution_count": null,
      "outputs": []
    },
    {
      "cell_type": "markdown",
      "metadata": {
        "id": "OWWBUMduDpMb"
      },
      "source": [
        "#### 1. Реализовать алгоритм LU -  разложения матриц (с выбором главного элемента) в виде программы. Используя разработанное программное обеспечение, решить систему линейных алгебраических уравнений (СЛАУ). Для матрицы СЛАУ вычислить определитель и обратную матрицу."
      ]
    },
    {
      "cell_type": "code",
      "execution_count": null,
      "metadata": {
        "id": "pIvYFGunDSZq"
      },
      "outputs": [],
      "source": [
        "class LU:\n",
        "    EPS = 1e-6\n",
        "\n",
        "    def __init__(self, U):\n",
        "        L = np.eye(len(U), dtype=float)\n",
        "        isDetNeg = False\n",
        "        permut = np.array(range(len(U)))\n",
        "        for i in range(len(U)):\n",
        "            max_idx = i\n",
        "            for j in range(i + 1, len(U)):\n",
        "                if abs(U[max_idx][i]) < abs(U[j][i]):\n",
        "                    max_idx = j\n",
        "            if max_idx != i:\n",
        "                U[[i, max_idx]] = U[[max_idx, i]]\n",
        "                L[[i, max_idx]] = L[[max_idx, i]]\n",
        "                L[:, [i, max_idx]] = L[:, [max_idx, i]]\n",
        "                isDetNeg = not isDetNeg\n",
        "                permut[[i, max_idx]] = permut[[max_idx, i]]\n",
        "            if abs(U[i][i]) < self.EPS: continue\n",
        "            for j in range(i + 1, len(U)):\n",
        "                mu = U[j][i] / U[i][i]\n",
        "                L[j][i] = mu\n",
        "                for k in range(len(U)):\n",
        "                    U[j][k] -= mu * U[i][k]\n",
        "        det = U.diagonal().prod()\n",
        "        if isDetNeg: det = -det\n",
        "        self._permut = permut\n",
        "        self.L = L\n",
        "        self.U = U\n",
        "        self.det = det\n",
        "\n",
        "    def solve(self, b):\n",
        "        b = np.array([ b[pi] for pi in self._permut ], dtype=float)\n",
        "        z = np.array([0] * len(b), dtype=float)\n",
        "        for i in range(len(b)):\n",
        "            z[i] = b[i]\n",
        "            for j in range(i):\n",
        "                z[i] -= self.L[i, j] * z[j]\n",
        "        x = np.array([0] * len(b), dtype=float)\n",
        "        for i in range(len(b)-1, -1, -1):\n",
        "            if abs(self.U[i, i]) < self.EPS: continue\n",
        "            x[i] = z[i]\n",
        "            for j in range(len(b)-1, i, -1):\n",
        "                x[i] -= x[j] * self.U[i, j]\n",
        "            x[i] /= self.U[i, i]\n",
        "        return x\n",
        "\n",
        "    def inverse(self):\n",
        "        n = len(self.L)\n",
        "        ret = np.matrix([[0] * n] * n, dtype=float)\n",
        "        for i in range(n):\n",
        "            b = np.array([0] * n, dtype=float)\n",
        "            b[i] = 1\n",
        "            ret[:, i] = np.matrix(self.solve(b)).T\n",
        "        return ret"
      ]
    },
    {
      "cell_type": "code",
      "execution_count": null,
      "metadata": {
        "colab": {
          "base_uri": "https://localhost:8080/"
        },
        "id": "gzWfx_SEJ0gJ",
        "outputId": "7e518a4e-632c-46b0-da89-e30f607ec220"
      },
      "outputs": [
        {
          "output_type": "stream",
          "name": "stdout",
          "text": [
            "{ x₁ + 2x₂ - 2x₃ + 6x₄  = 24.0\n",
            "{ -3x₁ - 5x₂ + 14x₃ + 13x₄  = 41.0\n",
            "{ x₁ + 2x₂ - 2x₃ - 2x₄  = 0.0\n",
            "{ -2x₁ - 4x₂ + 5x₃ + 10x₄  = 20.0\n"
          ]
        }
      ],
      "source": [
        "A = np.array([[ 1,  2, -2,  6],\n",
        "              [-3, -5, 14, 13],\n",
        "              [ 1,  2, -2, -2],\n",
        "              [-2, -4,  5, 10]], dtype=float)\n",
        "b = np.array([24, 41, 0, 20], dtype=float)\n",
        "print_system(A, b)"
      ]
    },
    {
      "cell_type": "code",
      "execution_count": null,
      "metadata": {
        "colab": {
          "base_uri": "https://localhost:8080/"
        },
        "id": "kplyjkJtMOAh",
        "outputId": "63b7727c-6fd4-4708-a042-14235e0e1090"
      },
      "outputs": [
        {
          "output_type": "stream",
          "name": "stdout",
          "text": [
            "Решение системы: x₁ = 2;  x₂ = 4;  x₃ = 2;  x₄ = 3;  \n",
            "Определитель матрицы: 8.0\n",
            "Обратная матрица:\n",
            " [[-11.5    -2.     42.5    18.   ]\n",
            " [  5.125   1.    -18.125  -8.   ]\n",
            " [ -0.75    0.      2.75    1.   ]\n",
            " [  0.125   0.     -0.125   0.   ]]\n"
          ]
        }
      ],
      "source": [
        "lu = LU(A)\n",
        "print('Решение системы: ', end='')\n",
        "print_x_solution(lu.solve(b))\n",
        "print('Определитель матрицы:', round(lu.det, 3))\n",
        "print('Обратная матрица:\\n', lu.inverse())"
      ]
    },
    {
      "cell_type": "code",
      "source": [
        "l = np.matrix(lu.L)\n",
        "u = np.matrix(lu.U)\n",
        "l * u"
      ],
      "metadata": {
        "colab": {
          "base_uri": "https://localhost:8080/"
        },
        "id": "XvOxsNEU0lii",
        "outputId": "cc8813f7-f49b-431b-8bb3-7e375314bb94"
      },
      "execution_count": null,
      "outputs": [
        {
          "output_type": "execute_result",
          "data": {
            "text/plain": [
              "matrix([[-3., -5., 14., 13.],\n",
              "        [-2., -4.,  5., 10.],\n",
              "        [ 1.,  2., -2., -2.],\n",
              "        [ 1.,  2., -2.,  6.]])"
            ]
          },
          "metadata": {},
          "execution_count": 29
        }
      ]
    },
    {
      "cell_type": "code",
      "source": [
        "A = np.matrix(A)\n",
        "A * np.matrix(lu.inverse())"
      ],
      "metadata": {
        "colab": {
          "base_uri": "https://localhost:8080/"
        },
        "id": "Gg_tvb6E05yP",
        "outputId": "3402d39e-2f2c-4d48-9c69-c3d9c0fb247a"
      },
      "execution_count": null,
      "outputs": [
        {
          "output_type": "execute_result",
          "data": {
            "text/plain": [
              "matrix([[ 3.55271368e-15,  1.00000000e+00, -1.42108547e-14,\n",
              "          1.77635684e-15],\n",
              "        [ 2.22044605e-16, -6.66666667e-01, -1.55431223e-15,\n",
              "          1.00000000e+00],\n",
              "        [ 0.00000000e+00,  0.00000000e+00,  1.00000000e+00,\n",
              "          5.00000000e-01],\n",
              "        [ 1.00000000e+00,  0.00000000e+00, -1.00000000e+00,\n",
              "          0.00000000e+00]])"
            ]
          },
          "metadata": {},
          "execution_count": 33
        }
      ]
    },
    {
      "cell_type": "markdown",
      "metadata": {
        "id": "Y2h4pVuQNxT1"
      },
      "source": [
        "#### 2. Реализовать метод прогонки в виде программы, задавая в качестве входных данных ненулевые элементы матрицы системы и вектор правых частей. Используя разработанное программное обеспечение, решить СЛАУ с трехдиагональной матрицей."
      ]
    },
    {
      "cell_type": "code",
      "execution_count": null,
      "metadata": {
        "id": "7R_7hgq-Nz7b"
      },
      "outputs": [],
      "source": [
        "def tridiagonal_algo(A=None, alpha=None, beta=None, gamma=None, b=None):\n",
        "    if not all([alpha, beta, gamma]) and A is not None:\n",
        "        alpha = [0] + [A[i+1][i] for i in range(len(A)-1)]\n",
        "        beta = [-A[i][i] for i in range(len(A))]\n",
        "        gamma = [A[i][i+1] for i in range(len(A)-1)] + [0]\n",
        "    P = [gamma[0] / beta[0]]\n",
        "    Q = [-b[0] / beta[0]]\n",
        "    for i in range(1, len(b)-1):\n",
        "        P.append(gamma[i] / (beta[i] - alpha[i] * P[i-1]))\n",
        "        Q.append((alpha[i] * Q[i-1] - b[i]) / (beta[i] - alpha[i] * P[i-1]))\n",
        "    x = [(alpha[-1] * Q[-1] - b[-1]) / (beta[-1] - alpha[-1] * P[-1])]\n",
        "    for i in range(len(b)-2, -1, -1):\n",
        "        x.append(P[i] * x[-1] + Q[i])\n",
        "    return x[::-1]"
      ]
    },
    {
      "cell_type": "code",
      "execution_count": null,
      "metadata": {
        "colab": {
          "base_uri": "https://localhost:8080/"
        },
        "id": "yLU09CpsOEG2",
        "outputId": "f830d779-2a15-48b0-918f-2f4a85e5264d"
      },
      "outputs": [
        {
          "output_type": "stream",
          "name": "stdout",
          "text": [
            "{ -11x₁ - 9x₂  = -122.0\n",
            "{ 5x₁ - 15x₂ - 2x₃  = -48.0\n",
            "{ -8x₂ + 11x₃ - 3x₄  = -14.0\n",
            "{ 6x₃ - 15x₄ + 4x₅  = -50.0\n",
            "{ 3x₄ + 6x₅  = 42.0\n"
          ]
        }
      ],
      "source": [
        "A = np.array([[-11,  -9,  0,   0, 0],\n",
        "              [  5, -15, -2,   0, 0],\n",
        "              [  0,  -8, 11,  -3, 0],\n",
        "              [  0,   0,  6, -15, 4],\n",
        "              [  0,   0,  0,   3, 6]], dtype=float)\n",
        "b = np.array([-122, -48, -14, -50, 42], dtype=float)\n",
        "print_system(A, b)"
      ]
    },
    {
      "cell_type": "code",
      "execution_count": null,
      "metadata": {
        "colab": {
          "base_uri": "https://localhost:8080/"
        },
        "id": "O_JQM1HYRine",
        "outputId": "67e777eb-66f0-40e2-fcb8-4dbf684d3ee3"
      },
      "outputs": [
        {
          "output_type": "stream",
          "name": "stdout",
          "text": [
            "Решение системы: x₁ = 7;  x₂ = 5;  x₃ = 4;  x₄ = 6;  x₅ = 4;  \n"
          ]
        }
      ],
      "source": [
        "print('Решение системы: ', end='')\n",
        "print_x_solution(tridiagonal_algo(A=A, b=b))"
      ]
    },
    {
      "cell_type": "markdown",
      "source": [
        "#### 5. Реализовать алгоритм QR – разложения матриц в виде программы. На его основе разработать программу, реализующую QR – алгоритм решения полной проблемы собственных значений произвольных матриц, задавая в качестве входных данных матрицу и точность вычислений. С использованием разработанного программного обеспечения найти собственные значения матрицы."
      ],
      "metadata": {
        "id": "a-CsPmV-Lv5I"
      }
    },
    {
      "cell_type": "code",
      "source": [
        "def sign(x): return -1 if x < 0 else 0 if x == 0 else 1\n",
        "\n",
        "def norm_2(x): return sqrt(sum([el**2 for el in x]))"
      ],
      "metadata": {
        "id": "kx4wY11Gk-4m"
      },
      "execution_count": null,
      "outputs": []
    },
    {
      "cell_type": "code",
      "source": [
        "def QR(A):\n",
        "    n = len(A)\n",
        "    A = np.matrix(A)\n",
        "    Q = np.matrix(np.eye(n))\n",
        "    for i in range(n - 1):\n",
        "        v = [0] * n\n",
        "        v[i] = A[i, i] + sign(A[i, i]) * norm_2(np.squeeze(np.asarray(A[i:, i])))\n",
        "        v[i+1:] = np.asarray(A[i+1:, i]).T[0]\n",
        "        v = np.matrix(v).T\n",
        "        H = np.matrix(np.eye(n) - 2 * v * v.T / norm_2(np.asarray(v)) ** 2)\n",
        "        A = H * A\n",
        "        Q *= H\n",
        "    return Q, A"
      ],
      "metadata": {
        "id": "qhkWrtwdpA3l"
      },
      "execution_count": null,
      "outputs": []
    },
    {
      "cell_type": "code",
      "source": [
        "def eigenvals_QR(A, e = 0.001):\n",
        "    def ColumnError(A, i): return norm_2(np.asarray(A[i+1:, i]))\n",
        "    def solveQuadEql(a, b, c):\n",
        "        d = b**2 - 4 * a * c\n",
        "        if d < 0:\n",
        "            return (-b / 2*a, sqrt(-d) / 2*a), (-b / 2*a, -sqrt(-d) / 2*a)\n",
        "        elif d == 0:\n",
        "            return (-b / 2*a, 0), (-b / 2*a, 0)\n",
        "        else:\n",
        "            return ((-b + sqrt(d)) / 2*a, 0), ((-b - sqrt(d)) / 2*a, 0)\n",
        "    def BlockError(x1, x2, r1, r2):\n",
        "        r1, r2 = np.array(r1), np.array(r2)\n",
        "        return max(norm_2(r1 - x1), norm_2(r2 - x2))\n",
        "\n",
        "    n = len(A)\n",
        "    x_Real = np.array([0] * n, dtype=float)\n",
        "    x_Comp = np.array([[[42, 42]] * 2] * n, dtype=float)\n",
        "    ok_Real = [False] * n\n",
        "    ok_Comp = [False] * n\n",
        "    ok_Real[-1] = True\n",
        "    while True:\n",
        "        Q, R = QR(A)\n",
        "        A = R * Q\n",
        "        for j in range(n - 1):\n",
        "            if ColumnError(A, j) < e:\n",
        "                x_Real[j] = A[j, j]\n",
        "                ok_Real[j] = True\n",
        "            r1, r2 = solveQuadEql(a = 1,\n",
        "                                  b = -A[j+1, j+1]-A[j, j],\n",
        "                                  c = A[j, j] * A[j+1, j+1] - A[j, j+1] * A[j+1, j])\n",
        "            if BlockError(*x_Comp[j], r1, r2) < e:\n",
        "                ok_Comp[j], ok_Comp[j+1] = True, True\n",
        "            x_Comp[j] = r1, r2\n",
        "        if all(any(ready) for ready in list(zip(ok_Real, ok_Comp))):\n",
        "            break\n",
        "    x = np.array([[0, 0]] * n, dtype=float)\n",
        "    i = 0\n",
        "    while i < n:\n",
        "        if ok_Comp[i]:\n",
        "            x[i], x[i+1] = x_Comp[i]\n",
        "            i += 2\n",
        "        else:\n",
        "            x[i] = x_Real[i], 0\n",
        "            i += 1\n",
        "    return x"
      ],
      "metadata": {
        "id": "-Y219C5T5SIn"
      },
      "execution_count": null,
      "outputs": []
    },
    {
      "cell_type": "code",
      "source": [
        "A = np.array([[ 3, -7, -1],\n",
        "              [-9, -8,  7],\n",
        "              [ 5,  2,  2]], dtype=float)"
      ],
      "metadata": {
        "id": "htZ_oehNLzg5"
      },
      "execution_count": null,
      "outputs": []
    },
    {
      "cell_type": "code",
      "source": [
        "A = np.array([[ 3, -7, -1, 4, 2],\n",
        "              [-9, -8,  7, -5, 1],\n",
        "              [ 5,  -2,  2, 0, 3],\n",
        "              [4, 2, -6, 4, 2],\n",
        "              [1, 4, -9, 2, 4]], dtype=float)"
      ],
      "metadata": {
        "id": "s2jHyx8x2DOM"
      },
      "execution_count": null,
      "outputs": []
    },
    {
      "cell_type": "code",
      "source": [
        "A = np.array([[0, 4, -2, -1, 7],\n",
        "              [3, 1, -2, -6, -5],\n",
        "              [-1, 2, -9, -5, -13],\n",
        "              [-5, 2, 5, 16, -4],\n",
        "              [2, 4, -1, -8, -8]], dtype=float)"
      ],
      "metadata": {
        "id": "3aDuJH-L2anq"
      },
      "execution_count": null,
      "outputs": []
    },
    {
      "cell_type": "code",
      "source": [
        "print_comp_solution(eigenvals_QR(A), 'λ')"
      ],
      "metadata": {
        "colab": {
          "base_uri": "https://localhost:8080/"
        },
        "id": "HcjLknlG-hgq",
        "outputId": "2393d20b-63a2-41e9-b0cc-c3c578ee8095"
      },
      "execution_count": null,
      "outputs": [
        {
          "output_type": "stream",
          "name": "stdout",
          "text": [
            "λ₁ = 18.1267;\n",
            "λ₂ = -1.3476;\n",
            "λ₃ = -7.8193 + 4.1901 i;\n",
            "λ₄ = -7.8193 - 4.1901 i;\n",
            "λ₅ = 0.0;\n",
            "\n"
          ]
        }
      ]
    },
    {
      "cell_type": "markdown",
      "metadata": {
        "id": "kAPmgvwlUNpz"
      },
      "source": [
        "#### 3. Реализовать метод простых итераций и метод Зейделя в виде программ, задавая в качестве входных данных матрицу системы, вектор правых частей и точность вычислений. Используя разработанное программное обеспечение, решить СЛАУ. Проанализировать количество итераций, необходимое для достижения заданной точности."
      ]
    },
    {
      "cell_type": "code",
      "execution_count": null,
      "metadata": {
        "id": "vU2Zm8EotYHa"
      },
      "outputs": [],
      "source": [
        "def norm_c(a):\n",
        "    a = np.asarray(a).T\n",
        "    if hasattr(a[0], '__iter__'):\n",
        "        a = [sum(abs(ai)) for ai in a]\n",
        "    return max(a)"
      ]
    },
    {
      "cell_type": "code",
      "execution_count": null,
      "metadata": {
        "colab": {
          "base_uri": "https://localhost:8080/"
        },
        "id": "5LKKwINuUOj9",
        "outputId": "0c8a8206-5496-4757-dc15-c132cd7995dd"
      },
      "outputs": [
        {
          "output_type": "stream",
          "name": "stdout",
          "text": [
            "{ 19x₁ - 4x₂ - 9x₃ - 1x₄  = 100.0\n",
            "{ -2x₁ + 20x₂ - 2x₃ - 7x₄  = -5.0\n",
            "{ 6x₁ - 5x₂ - 25x₃ + 9x₄  = 34.0\n",
            "{ -3x₂ - 9x₃ + 12x₄  = 69.0\n"
          ]
        }
      ],
      "source": [
        "A = np.array([[19, -4,  -9, -1],\n",
        "              [-2, 20,  -2, -7],\n",
        "              [ 6, -5, -25,  9],\n",
        "              [ 0, -3,  -9, 12]], dtype=float)\n",
        "b = np.array([100, -5, 34, 69], dtype=float)\n",
        "print_system(A, b)"
      ]
    },
    {
      "cell_type": "markdown",
      "metadata": {
        "id": "UVtE6HMGmjNC"
      },
      "source": [
        "##### Метод простых итераций"
      ]
    },
    {
      "cell_type": "code",
      "execution_count": null,
      "metadata": {
        "id": "mDwoCtOWounp"
      },
      "outputs": [],
      "source": [
        "def simple_iteration(A, b, e = 0.001):\n",
        "    n = len(b)\n",
        "    b = np.matrix([b[i] / A[i][i] for i in range(n)]).T\n",
        "    A = np.matrix([[-A[i][j]/A[i][i] if i != j else 0 for j in range(n)] for i in range(n)])\n",
        "    if max(norm_2(val) for val in eigenvals_QR(A)) >= 1:\n",
        "        return None\n",
        "    x = b.copy()\n",
        "    normA = norm_c(A)\n",
        "    if normA < 1:\n",
        "        estim = (log10(e) - log10(norm_c(b)) + log10(1 - norm_c(A))) / log10(norm_c(A))\n",
        "        err_koef = normA / (1 - normA)\n",
        "    else:\n",
        "        estim = None\n",
        "        err_koef = 1\n",
        "    iter = 0\n",
        "    while True:\n",
        "        iter += 1\n",
        "        x_prev = x.copy()\n",
        "        x = A * x + b\n",
        "        if norm_c(x - x_prev) * err_koef < e:\n",
        "            break\n",
        "    return x, estim, iter"
      ]
    },
    {
      "cell_type": "code",
      "execution_count": null,
      "metadata": {
        "colab": {
          "base_uri": "https://localhost:8080/"
        },
        "id": "tkJKHGyehvqM",
        "outputId": "c1133b53-13ac-4baa-f7e5-c90b178a2e4b"
      },
      "outputs": [
        {
          "output_type": "stream",
          "name": "stdout",
          "text": [
            "Априорная оценка числа итераций: достаточное условие (||alpha|| < 1) не выполнено\n",
            "Фактическое число итераций: 15\n",
            "Решение системы: x₁ = 7.987;  x₂ = 4.001;  x₃ = 3.006;  x₄ = 8.98;  \n"
          ]
        }
      ],
      "source": [
        "x, estim, iter = simple_iteration(A, b, 0.1)\n",
        "print('Априорная оценка числа итераций:', estim if estim else 'достаточное условие (||alpha|| < 1) не выполнено')\n",
        "print('Фактическое число итераций:', iter)\n",
        "print('Решение системы: ', end='')\n",
        "print_x_solution(np.squeeze(x.tolist()))"
      ]
    },
    {
      "cell_type": "markdown",
      "metadata": {
        "id": "btjthASmmnR0"
      },
      "source": [
        "##### Метод Зейделя"
      ]
    },
    {
      "cell_type": "code",
      "source": [
        "def upp_triang(A):\n",
        "    return [[A[i][j] if i <= j else 0 for j in range(len(A))] for i in range(len(A))]"
      ],
      "metadata": {
        "id": "vUC_EU3Y86n4"
      },
      "execution_count": null,
      "outputs": []
    },
    {
      "cell_type": "code",
      "execution_count": null,
      "metadata": {
        "id": "3pwyVndWtCfu"
      },
      "outputs": [],
      "source": [
        "def seidel(A, b, e = 0.001):\n",
        "    n = len(b)\n",
        "    b = np.array([b[i] / A[i][i] for i in range(n)])\n",
        "    A = np.array([[-A[i][j]/A[i][i] if i != j else 0 for j in range(n)] for i in range(n)])\n",
        "    if max(norm_2(val) for val in eigenvals_QR(A)) >= 1:\n",
        "        return None\n",
        "    x = b.copy()\n",
        "    normA = norm_c(A)\n",
        "    err_koef = norm_c(upp_triang(A)) / (1 - normA) if normA < 1 else 1\n",
        "    iter = 0\n",
        "    while True:\n",
        "        iter += 1\n",
        "        x_prev = x.copy()\n",
        "        x = []\n",
        "        for i in range(n):\n",
        "            xi = 0\n",
        "            for j in range(len(x)):\n",
        "                xi += A[i][j] * x[j]\n",
        "            for j in range(len(x), n):\n",
        "                xi += A[i][j] * x_prev[j]\n",
        "            x.append(xi + b[i])\n",
        "        x = np.array(x)\n",
        "        if norm_c(x - x_prev) * err_koef < e:\n",
        "            break\n",
        "    return x, iter"
      ]
    },
    {
      "cell_type": "code",
      "execution_count": null,
      "metadata": {
        "colab": {
          "base_uri": "https://localhost:8080/"
        },
        "id": "c8regzZNKA_L",
        "outputId": "82f543c9-eb72-4070-d6ad-7a0500fb9715"
      },
      "outputs": [
        {
          "output_type": "stream",
          "name": "stdout",
          "text": [
            "Фактическое число итераций: 6\n",
            "Решение системы: x₁ = 7.948;  x₂ = 3.963;  x₃ = 2.969;  x₄ = 8.968;  \n"
          ]
        }
      ],
      "source": [
        "x, iter = seidel(A, b, 0.1)\n",
        "print('Фактическое число итераций:', iter)\n",
        "print('Решение системы: ', end='')\n",
        "print_x_solution(x)"
      ]
    },
    {
      "cell_type": "markdown",
      "metadata": {
        "id": "XVnkb-s1R8bE"
      },
      "source": [
        "#### 4. Реализовать метод вращений в виде программы, задавая в качестве входных данных матрицу и точность вычислений. Используя разработанное программное обеспечение, найти собственные значения и собственные векторы симметрических матриц. Проанализировать зависимость погрешности вычислений от числа итераций."
      ]
    },
    {
      "cell_type": "code",
      "execution_count": null,
      "metadata": {
        "id": "fl--q408SFO3"
      },
      "outputs": [],
      "source": [
        "def Jacobi_rotation(A, e = 0.001):\n",
        "    A = np.matrix(A)\n",
        "    n = len(A)\n",
        "    U_ret = np.matrix(np.eye(n))\n",
        "    iter = 0\n",
        "    while True:\n",
        "        iter += 1\n",
        "        mi, mj, mmax = 0, 0, 0\n",
        "        for i in range(n):\n",
        "            for j in range(i + 1, n):\n",
        "                if mmax < abs(A[i, j]):\n",
        "                    mmax = abs(A[i, j])\n",
        "                    mi, mj = i, j\n",
        "        fi = atan(2 * A[mi, mj] / (A[mi, mi] - A[mj, mj])) / 2 if A[mi, mi] != A[mj, mj] else pi / 4\n",
        "        U = np.matrix(np.eye(n))\n",
        "        U[mi, mi], U[mi, mj] = cos(fi), -sin(fi)\n",
        "        U[mj, mi], U[mj, mj] = sin(fi),  cos(fi)\n",
        "        U_ret *= U\n",
        "        A = U.T * A * U\n",
        "        t = 0\n",
        "        for i in range(n):\n",
        "            for j in range(i + 1, n):\n",
        "                t += A[i, j] * A[i, j]\n",
        "        if t < e**2: break\n",
        "    return np.asarray(A.diagonal())[0], np.asarray(U_ret.T), iter"
      ]
    },
    {
      "cell_type": "code",
      "execution_count": null,
      "metadata": {
        "id": "wHepJa0fiCPk"
      },
      "outputs": [],
      "source": [
        "A = np.array([[-7,  4,  5],\n",
        "              [ 4, -6, -9],\n",
        "              [ 5, -9, -8]])"
      ]
    },
    {
      "cell_type": "code",
      "execution_count": null,
      "metadata": {
        "colab": {
          "base_uri": "https://localhost:8080/"
        },
        "id": "kyVL6-M8zlXP",
        "outputId": "80e8b2d5-46a3-473b-bf0d-4e3a6bba33ee"
      },
      "outputs": [
        {
          "output_type": "stream",
          "name": "stdout",
          "text": [
            "Фактическое число итераций: 3\n",
            "Собственные значения: λ₁ = -3.711;  λ₂ = 2.073;  λ₃ = -19.362;  \n",
            "Собственные векторы:\n",
            "x₁ = [0.88692126 0.34650007 0.30546422];\n",
            "x₂ = [-0.0483791   0.7273351  -0.68457513];\n",
            "x₃ = [-0.45938018  0.59238615  0.66185232];\n",
            "\n"
          ]
        }
      ],
      "source": [
        "ei_val, ei_vec, iter = Jacobi_rotation(A, 0.3)\n",
        "print('Фактическое число итераций:', iter)\n",
        "print('Собственные значения: ', end='')\n",
        "print_x_solution(ei_val, 'λ')\n",
        "print('Собственные векторы:')\n",
        "print_vec_solution(ei_vec)"
      ]
    },
    {
      "cell_type": "code",
      "source": [],
      "metadata": {
        "id": "yI9ryQ1PJHPm"
      },
      "execution_count": null,
      "outputs": []
    }
  ],
  "metadata": {
    "colab": {
      "collapsed_sections": [
        "mnmDfQZO_IDL",
        "OWWBUMduDpMb",
        "Y2h4pVuQNxT1",
        "a-CsPmV-Lv5I",
        "kAPmgvwlUNpz",
        "UVtE6HMGmjNC",
        "XVnkb-s1R8bE"
      ],
      "provenance": [],
      "authorship_tag": "ABX9TyNHQyA0avb8btDNZtGjabp8",
      "include_colab_link": true
    },
    "kernelspec": {
      "display_name": "Python 3",
      "name": "python3"
    },
    "language_info": {
      "name": "python"
    }
  },
  "nbformat": 4,
  "nbformat_minor": 0
}