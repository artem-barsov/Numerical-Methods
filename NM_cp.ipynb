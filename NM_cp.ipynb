{
  "nbformat": 4,
  "nbformat_minor": 0,
  "metadata": {
    "colab": {
      "provenance": [],
      "collapsed_sections": [
        "-r4A5Jn791DX"
      ],
      "authorship_tag": "ABX9TyNs3idXdwEkpJim1Gdeq7D3",
      "include_colab_link": true
    },
    "kernelspec": {
      "name": "python3",
      "display_name": "Python 3"
    },
    "language_info": {
      "name": "python"
    }
  },
  "cells": [
    {
      "cell_type": "markdown",
      "metadata": {
        "id": "view-in-github",
        "colab_type": "text"
      },
      "source": [
        "<a href=\"https://colab.research.google.com/github/artem-barsov/Numerical-Methods/blob/main/NM_capstone.ipynb\" target=\"_parent\"><img src=\"https://colab.research.google.com/assets/colab-badge.svg\" alt=\"Open In Colab\"/></a>"
      ]
    },
    {
      "cell_type": "markdown",
      "source": [
        "# Вычисление несобственных интегралов численными методами"
      ],
      "metadata": {
        "id": "gKgrt-VF9aEl"
      }
    },
    {
      "cell_type": "markdown",
      "source": [
        "Определённый интеграл называется несобственным, если выполняется по крайней мере одно из следующих условий:\n",
        "* Область интегрирования является бесконечной. Например, является бесконечным промежутком $[a,+\\infty)$.\n",
        "* Функция $f(x)$ является неограниченной в окрестности некоторых точек области интегрирования.\n",
        "\n",
        "Если интервал $[a,b]$ конечный и функция интегрируема по Риману, то значение несобственного интеграла совпадает со значением определённого интеграла.\n",
        "\n",
        "Так как любой несобственный интеграл 2 рода можно свести к решению несобственного интеграла 1 рода с помощью замен переменной, в данной работе будут рассмотрены численные методы решения интегралов 1 рода.\n",
        "\n"
      ],
      "metadata": {
        "id": "nnItPjZJzulr"
      }
    },
    {
      "cell_type": "code",
      "execution_count": null,
      "metadata": {
        "id": "wqlO0tXDC8-5"
      },
      "outputs": [],
      "source": [
        "from math import sqrt, exp, pi, atan\n",
        "import numpy as np\n",
        "from sympy import Symbol, Poly, laguerre\n",
        "import matplotlib.pyplot as plt\n",
        "INF = 1e8"
      ]
    },
    {
      "cell_type": "markdown",
      "source": [
        "## Методы вычисления определённого интеграла"
      ],
      "metadata": {
        "id": "-r4A5Jn791DX"
      }
    },
    {
      "cell_type": "code",
      "source": [
        "def rectangle_method(f, l, r, h):\n",
        "    r = l+h*int((r-l)/h)\n",
        "    x, nx = l, l+h\n",
        "    res = 0\n",
        "    while nx <= r or abs(nx-r) < 1e-9:\n",
        "        res += f((x+nx)/2)\n",
        "        x, nx = nx, nx+h\n",
        "    return h * res"
      ],
      "metadata": {
        "id": "mI5QYG2wOlBq"
      },
      "execution_count": null,
      "outputs": []
    },
    {
      "cell_type": "code",
      "source": [
        "def trapezoidal_method(f, l, r, h):\n",
        "    r = l+h*int((r-l)/h)\n",
        "    x = l\n",
        "    res = 0\n",
        "    while x <= r or abs(x-r) < 1e-9:\n",
        "        res += f(x)\n",
        "        x += h\n",
        "    return h * (res - (f(l)+f(r))/2)"
      ],
      "metadata": {
        "id": "pvLuDfCES5qq"
      },
      "execution_count": null,
      "outputs": []
    },
    {
      "cell_type": "code",
      "source": [
        "def Simpson_method(f, l, r, h):\n",
        "    r = l+h*int((r-l)/h)\n",
        "    x = l + h\n",
        "    res, i = 0, True\n",
        "    while x <= r or abs(x-r) < 1e-9:\n",
        "        res += (4 if i else 2) * f(x)\n",
        "        i = not i\n",
        "        x += h\n",
        "    return h / 3 * (f(l) - f(r) + res)"
      ],
      "metadata": {
        "id": "AHC9StEtWEMg"
      },
      "execution_count": null,
      "outputs": []
    },
    {
      "cell_type": "markdown",
      "source": [
        "## Методы вычисления несобственного интеграла 1 рода"
      ],
      "metadata": {
        "id": "4TIKkgbA-Gq9"
      }
    },
    {
      "cell_type": "markdown",
      "source": [
        "**Метод с заменой переменной.**\n",
        "\n",
        "Рассмотрим преобразование, выполненное с помощью замены переменной:\n",
        "\n",
        "$\\int\\limits_a^b f(x)dx = \\int\\limits_\\frac{1}{b}^\\frac{1}{a} \\frac{1}{t^2} f(\\frac{1}{t})dt$ при $ab>0$\n",
        "\n",
        "В силу свойства линейности, можем разложить несобственный интеграл на сумму интегралов:\n",
        "\n",
        "$\\int\\limits_{-\\infty}^{+\\infty}f(x)dx = \\int\\limits_{-\\infty}^{-A}f(x)dx + \\int\\limits_{-A}^{B}f(x)dx + \\int\\limits_{B}^{+\\infty}f(x)dx$ при $A>0$ и $B>0$\n",
        "\n",
        "Несобственные  интегралы преобразуем с помощью формулы выше, и вычислим полученные 3 интеграла, например, методами прямоугольников, трапеций или Симпсона."
      ],
      "metadata": {
        "id": "JnLpHiM53Wjr"
      }
    },
    {
      "cell_type": "code",
      "source": [
        "def integrate_with_variable_substitution(f, l, r, h=0.01, eps=1e-6, f_integrate=rectangle_method):\n",
        "    f_new = lambda t: (1 / t**2) * f(1 / t)\n",
        "    result = 0\n",
        "    if r >= INF:\n",
        "        new_r = max(eps, l)\n",
        "        result += f_integrate(f_new, eps, 1 / new_r - eps, h)\n",
        "    else:\n",
        "        new_r = r\n",
        "    if l <= -INF:\n",
        "        new_l = min(-eps, r)\n",
        "        result += f_integrate(f_new, 1 / new_l + eps, -eps, h)\n",
        "    else:\n",
        "        new_l = l\n",
        "    if new_l < new_r:\n",
        "        result += f_integrate(f, new_l, new_r, h)\n",
        "    return result"
      ],
      "metadata": {
        "id": "g8FEr2-zWFie"
      },
      "execution_count": null,
      "outputs": []
    },
    {
      "cell_type": "markdown",
      "source": [
        "**Квадратурная формула Гаусса — Лагерра** аппроксимирует значения интегралов вида:\n",
        "\n",
        "$\\int\\limits_{0}^{+\\infty}e^{-x}f(x)dx $\n",
        "\n",
        "рядом по $n$ точкам\n",
        "\n",
        "$\\int\\limits _{0}^{+\\infty}e^{-x}f(x)dx \\approx \\sum\\limits_{i=1}^n w_i f(x_i)$\n",
        "\n",
        "где $x_i$ — это $i$-й корень полинома Лагерра $L_n(x)$, а коэффициенты $w_{i}$:\n",
        "\n",
        "$w_{i}={\\frac {x_{i}}{(n+1)^{2}L_{n+1}^{2}(x_{i})}}$\n",
        "\n",
        "Для интеграла произвольной функции можно записать:\n",
        "\n",
        "$\\int \\limits _{0}^{+\\infty }f(x)\\,dx=\\int \\limits _{0}^{+\\infty }f(x)e^{x}e^{-x}\\,dx=\\int \\limits _{0}^{+\\infty }g(x)e^{-x}\\,dx,$\n",
        "\n",
        "где $g(x)=f(x)e^{x}$.\n",
        "\n",
        "Далее можно применить квадратурную формулу Гаусса — Лагерра к новой функции $g(x)$."
      ],
      "metadata": {
        "id": "4UiyRjRG_5cy"
      }
    },
    {
      "cell_type": "code",
      "source": [
        "def Gauss_Laguerre_quadrature(f, n=5, isGeneralFunction=True):\n",
        "    def lag_roots_weights(n):\n",
        "        x = Symbol(\"x\")\n",
        "        roots = Poly(laguerre(n, x)).all_roots()\n",
        "        x_i = [rt.evalf(20) for rt in roots]\n",
        "        w_i = [(rt / ((n + 1) * laguerre(n + 1, rt)) ** 2).evalf(20) for rt in roots]\n",
        "        return x_i, w_i\n",
        "    if isGeneralFunction:\n",
        "        f = lambda x, f=f: f(x) * exp(x)\n",
        "    x, w = lag_roots_weights(n)\n",
        "    w = np.array(w)\n",
        "    f = np.vectorize(f)\n",
        "    return (w * f(x)).sum()"
      ],
      "metadata": {
        "id": "CttL_QD0wkBf"
      },
      "execution_count": null,
      "outputs": []
    },
    {
      "cell_type": "code",
      "source": [
        "def integrate_with_Gauss_Laguerre_quadrature(f, l, r, h=0.01, f_integrate=rectangle_method, n_lag_roots=5, isGeneralFunction=True):\n",
        "    result = 0\n",
        "    if r >= INF:\n",
        "        result += Gauss_Laguerre_quadrature(f, n_lag_roots, isGeneralFunction)\n",
        "        if l > 0: result -= f_integrate(f, 0, l, h)\n",
        "    elif r > 0:\n",
        "        result += f_integrate(f, max(l, 0), r, h)\n",
        "    if l <= -INF:\n",
        "        result += Gauss_Laguerre_quadrature(lambda x: f(-x), n_lag_roots, isGeneralFunction)\n",
        "        if r < 0: result -= f_integrate(f, r, 0, h)\n",
        "    elif l < 0:\n",
        "        result += f_integrate(f, l, min(r, 0), h)\n",
        "    return result"
      ],
      "metadata": {
        "id": "DeHul5d4FNuW"
      },
      "execution_count": null,
      "outputs": []
    },
    {
      "cell_type": "markdown",
      "source": [
        "**Предельный переход**\n",
        "\n",
        "$\\int\\limits_{a}^{+\\infty}f(x)dx = \\lim\\limits_{b\\rightarrow\\infty}\\int\\limits_{a}^{b}f(x)dx \\approx \\sum\\limits_{n=a}^{+\\infty}f(nh)$,\n",
        "\n",
        "где $h$ - заданный шаг численного интегрирования. Суммирование заканчивается, когда остаток ряда меньше заданного $\\varepsilon$."
      ],
      "metadata": {
        "id": "f1DEJT5bC9T6"
      }
    },
    {
      "cell_type": "code",
      "source": [
        "def integrate_with_limits(f, l, r, h=0.1, eps=1e-6, f_integrate=rectangle_method):\n",
        "    result = 0\n",
        "    deltas = [[]]\n",
        "    iters = 0\n",
        "    if r >= INF:\n",
        "        x, nx = max(l, 0), max(l, 0)+h\n",
        "        while True:\n",
        "            iters += 1\n",
        "            d_int = f_integrate(f, x, nx+eps, h)\n",
        "            result += d_int\n",
        "            deltas[-1].append(d_int)\n",
        "            if abs(d_int) < eps: break\n",
        "            x, nx = nx, nx+h\n",
        "    else:\n",
        "        result += f_integrate(f, max(l, 0), r, h)\n",
        "    \n",
        "    if l <= -INF:\n",
        "        deltas.append([])\n",
        "        x, nx = min(r, 0), min(r, 0)-h\n",
        "        while True:\n",
        "            iters += 1\n",
        "            d_int = f_integrate(f, nx, x+eps, h)\n",
        "            result += d_int\n",
        "            deltas[-1].append(d_int)\n",
        "            if abs(d_int) < eps: break\n",
        "            x, nx = nx, nx-h\n",
        "    else:\n",
        "        result += f_integrate(f, l, min(r, 0), h)\n",
        "\n",
        "    return result, deltas"
      ],
      "metadata": {
        "id": "ZC1tqaXmkPpI"
      },
      "execution_count": null,
      "outputs": []
    },
    {
      "cell_type": "markdown",
      "source": [
        "## Решение"
      ],
      "metadata": {
        "id": "Bf1C2EIdkYmx"
      }
    },
    {
      "cell_type": "code",
      "source": [
        "f = lambda x: 1 / (x**2 + 1)\n",
        "ans_exact = pi\n",
        "a = -INF\n",
        "b = INF\n",
        "h = 0.1\n",
        "eps = 1e-8"
      ],
      "metadata": {
        "id": "y5uCP5eRDCZp"
      },
      "execution_count": null,
      "outputs": []
    },
    {
      "cell_type": "code",
      "source": [
        "res = integrate_with_variable_substitution(f, a, b, h)\n",
        "print('Преобразованием в определённый интеграл заменой переменной:', res)\n",
        "print('Абсолютная погрешность:', abs(ans_exact - res))\n",
        "print()\n",
        "res = integrate_with_Gauss_Laguerre_quadrature(f, a, b, h, n_lag_roots=16)\n",
        "print('С помощью квадратурной формулы Гаусса-Лагерра:', res)\n",
        "print('Абсолютная погрешность:', abs(ans_exact - res))\n",
        "print()\n",
        "res, deltas = integrate_with_limits(f, a, b, h)\n",
        "print('С помощью предельного перехода:', res)\n",
        "print('Абсолютная погрешность:', abs(ans_exact - res))\n",
        "print()"
      ],
      "metadata": {
        "colab": {
          "base_uri": "https://localhost:8080/"
        },
        "id": "RFa4xoo9LT-5",
        "outputId": "4e48ba07-94e3-4ad8-cb66-e198bbb93aea"
      },
      "execution_count": null,
      "outputs": [
        {
          "output_type": "stream",
          "name": "stdout",
          "text": [
            "Преобразованием в определённый интеграл заменой переменной: 3.0416804657161816\n",
            "Абсолютная погрешность: 0.09991218787361156\n",
            "\n",
            "С помощью квадратурной формулы Гаусса-Лагерра: 3.1074754698652988691\n",
            "Абсолютная погрешность: 0.034117183724494246946\n",
            "\n",
            "С помощью предельного перехода: 3.1352695637391474\n",
            "Абсолютная погрешность: 0.006323089850645669\n",
            "\n"
          ]
        }
      ]
    },
    {
      "cell_type": "markdown",
      "source": [
        "## Анализ"
      ],
      "metadata": {
        "id": "uGjZqGDyrng5"
      }
    },
    {
      "cell_type": "markdown",
      "source": [
        "### Проанализурем зависимость абсолютной погрешности метода с квадратурной формулой Гаусса-Лагерра от количества узлов полинома Лагерра"
      ],
      "metadata": {
        "id": "XRIAXItFLcC3"
      }
    },
    {
      "cell_type": "code",
      "source": [
        "x = range(2, 20)\n",
        "y = abs(np.array([ans_exact]*len(x)) - np.vectorize(integrate_with_Gauss_Laguerre_quadrature)(f, a, b, h, n_lag_roots=x))\n",
        "plt.plot(x, y, marker='o');"
      ],
      "metadata": {
        "colab": {
          "base_uri": "https://localhost:8080/",
          "height": 267
        },
        "id": "i-EXfeHZLx6T",
        "outputId": "cf99f94e-6a12-4d68-e22c-18389cd1add0"
      },
      "execution_count": null,
      "outputs": [
        {
          "output_type": "display_data",
          "data": {
            "text/plain": [
              "<Figure size 432x288 with 1 Axes>"
            ],
            "image/png": "[encoded data removed]"
          },
          "metadata": {
            "needs_background": "light"
          }
        }
      ]
    },
    {
      "cell_type": "markdown",
      "source": [
        "### Проанализируем зависимость величины прироста интеграла от номера итерации в методе предельного перехода"
      ],
      "metadata": {
        "id": "1h3I0nk4sXPv"
      }
    },
    {
      "cell_type": "code",
      "source": [
        "print(f'Всего {\" и \".join([str(len(delta)) for delta in deltas])} итераций')\n",
        "for delta in deltas:\n",
        "    plt.plot(np.log(np.abs(delta)))"
      ],
      "metadata": {
        "colab": {
          "base_uri": "https://localhost:8080/",
          "height": 283
        },
        "id": "YefvSEMvi4kv",
        "outputId": "5ba82445-1433-4be6-b2e4-87b6e962f1a6"
      },
      "execution_count": null,
      "outputs": [
        {
          "output_type": "stream",
          "name": "stdout",
          "text": [
            "Всего 3163 и 3163 итераций\n"
          ]
        },
        {
          "output_type": "display_data",
          "data": {
            "text/plain": [
              "<Figure size 432x288 with 1 Axes>"
            ],
            "image/png": "[encoded data removed]"
          },
          "metadata": {
            "needs_background": "light"
          }
        }
      ]
    },
    {
      "cell_type": "markdown",
      "source": [
        "## Вывод"
      ],
      "metadata": {
        "id": "132l-7p3vhbT"
      }
    },
    {
      "cell_type": "markdown",
      "source": [
        "В данной работе я проанализировал и сравнил 3 метода вычисления несобственных интегралов численными методами. На выбранном примере быстрее всего работал метод предельного перехода, а главное с наименьшей погрешностью. Однако самым универсальным методом оказался метод Гаусса-Лаггера в связке с обычными методами численного интегрирования (методы прямоугольников, трапеций, Симпсона), так как нет риска зависнуть в долгих вычислениях при малых допустимых значений погрешности.\n",
        "\n",
        "К тому же, на практике чаще всего используется многочлен Лагерра 5-й степени, что достаточно быстро вычисляется, однако в моей работе рассмотрел степени до 20. Увеличение степени монотонно уменьшала погрешность метода."
      ],
      "metadata": {
        "id": "UzcfbXGxxoIS"
      }
    }
  ]
}
