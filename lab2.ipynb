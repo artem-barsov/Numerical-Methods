{
  "cells": [
    {
      "cell_type": "markdown",
      "metadata": {
        "id": "view-in-github",
        "colab_type": "text"
      },
      "source": [
        "<a href=\"https://colab.research.google.com/github/artem-barsov/Numerical-Methods/blob/main/lab2.ipynb\" target=\"_parent\"><img src=\"https://colab.research.google.com/assets/colab-badge.svg\" alt=\"Open In Colab\"/></a>"
      ]
    },
    {
      "cell_type": "code",
      "execution_count": null,
      "metadata": {
        "id": "oE0--tIiH-UH"
      },
      "outputs": [],
      "source": [
        "import numpy as np\n",
        "from math import sqrt\n",
        "import matplotlib.pyplot as plt"
      ]
    },
    {
      "cell_type": "markdown",
      "metadata": {
        "id": "mnmDfQZO_IDL"
      },
      "source": [
        "#### Форматирование"
      ]
    },
    {
      "cell_type": "code",
      "execution_count": null,
      "metadata": {
        "id": "oaLWS04PSDOW"
      },
      "outputs": [],
      "source": [
        "def get_script(s, script='sup'):\n",
        "    if script == 'sup':\n",
        "        return s.translate(s.maketrans('0123456789', '⁰¹²³⁴⁵⁶⁷⁸⁹'))\n",
        "    if script == 'sub':\n",
        "        return s.translate(s.maketrans('0123456789', '₀₁₂₃₄₅₆₇₈₉'))\n",
        "    return s"
      ]
    },
    {
      "cell_type": "code",
      "execution_count": null,
      "metadata": {
        "id": "Tu_6ByEuUrUu"
      },
      "outputs": [],
      "source": [
        "def polynom2str(a, x = 'x', script='sup'):\n",
        "    s = ''\n",
        "    frm = 0\n",
        "    while a[frm]==0: frm += 1\n",
        "    first_done = False\n",
        "    for i in range(frm, len(a)):\n",
        "        if a[i] == 0: continue\n",
        "        deg = len(a) - i - 1\n",
        "        if first_done:\n",
        "            s += ('+ ' if a[i] > 0 else '- ')\n",
        "        elif a[i] < 0:\n",
        "            s += '-'\n",
        "        first_done = True\n",
        "        if abs(a[i]) != 1 or deg == 0:\n",
        "            s += '%g'%abs(a[i])\n",
        "        if script == 'sup':\n",
        "            if deg > 0:\n",
        "                s += x\n",
        "                if deg != 1:\n",
        "                    s += get_script(str(deg), script)\n",
        "                s += ' '\n",
        "        else:\n",
        "            s += x + get_script(str(i+1), script) + ' '\n",
        "    return s if s!='' else '0'"
      ]
    },
    {
      "cell_type": "code",
      "execution_count": null,
      "metadata": {
        "id": "t-TB4l88Unep"
      },
      "outputs": [],
      "source": [
        "def print_system(a, b):\n",
        "    for i in range(len(a)):\n",
        "        print('{', polynom2str(a[i], script='sub'), '=', b[i])"
      ]
    },
    {
      "cell_type": "code",
      "execution_count": null,
      "metadata": {
        "id": "JHrt_5iSWVnw"
      },
      "outputs": [],
      "source": [
        "def print_x_solution(x, sym = 'x'):\n",
        "    for i in range(1, len(x)+1):\n",
        "        print(f'{sym}{get_script(str(i), \"sub\")} = %g;' % round(x[i-1], 3), end='  ')\n",
        "    print()"
      ]
    },
    {
      "cell_type": "code",
      "source": [
        "def print_vec_solution(x, sym = 'x'):\n",
        "    for i in range(1, len(x)+1):\n",
        "        print(f'{sym}{get_script(str(i), \"sub\")} = {x[i-1]};')\n",
        "    print()"
      ],
      "metadata": {
        "id": "8wq7XW2B89in"
      },
      "execution_count": null,
      "outputs": []
    },
    {
      "cell_type": "code",
      "source": [
        "def print_comp_solution(x, sym = 'x'):\n",
        "    for i in range(1, len(x)+1):\n",
        "        s = str(round(x[i-1][0], 4))\n",
        "        if x[i-1][1] != 0:\n",
        "            if x[i-1][1] < 0: s += ' - ' \n",
        "            else: s += ' + '\n",
        "            s += str(round(abs(x[i-1][1]), 4)) + ' i'\n",
        "        print(f'{sym}{get_script(str(i), \"sub\")} = {s};')\n",
        "    print()"
      ],
      "metadata": {
        "id": "tKqNkPGI5jR5"
      },
      "execution_count": null,
      "outputs": []
    },
    {
      "cell_type": "markdown",
      "metadata": {
        "id": "OWWBUMduDpMb"
      },
      "source": [
        "#### 1. Реализовать методы простой итерации и Ньютона решения нелинейных уравнений в виде программ, задавая в качестве входных данных точность вычислений. С использованием разработанного программного обеспечения найти положительный корень нелинейного уравнения (начальное приближение определить графически). Проанализировать зависимость погрешности вычислений от количества итераций."
      ]
    },
    {
      "cell_type": "code",
      "source": [
        "def d_dx(f, e = 0.0001):\n",
        "    return lambda x: (f(x+e) - f(x)) / e"
      ],
      "metadata": {
        "id": "c-Ide1uVGeO_"
      },
      "execution_count": null,
      "outputs": []
    },
    {
      "cell_type": "code",
      "source": [
        "f = lambda x: 2**x - x**2 - 0.5\n",
        "g = lambda x: sqrt(2**x - 0.5)\n",
        "a, b = 0.5, 2"
      ],
      "metadata": {
        "id": "7eMVw5kG_-cd"
      },
      "execution_count": null,
      "outputs": []
    },
    {
      "cell_type": "markdown",
      "source": [
        "##### Метол простых итераций"
      ],
      "metadata": {
        "id": "3hs8cUjSM_8O"
      }
    },
    {
      "cell_type": "code",
      "source": [
        "def simple_iter(f, a, b, e = 0.0001):\n",
        "    x, x_prev = (a + b) / 2, (a + b) / 2\n",
        "    q = max(abs(d_dx(f)(a)), abs(d_dx(f)(b)))\n",
        "    if q >= 1:\n",
        "        print('Не выполнено условие сходимости')\n",
        "        return\n",
        "    vals = []\n",
        "    while True:\n",
        "        x_prev, x = x, f(x)\n",
        "        vals.append(x)\n",
        "        if abs(x - x_prev) * q / (1 - q) <= e:\n",
        "            break\n",
        "    return x, vals"
      ],
      "metadata": {
        "id": "UH3z_De3_lMa"
      },
      "execution_count": null,
      "outputs": []
    },
    {
      "cell_type": "code",
      "source": [
        "x, vals = simple_iter(g, a, b, 1e-5)\n",
        "vals = np.abs(np.array(vals) - x)\n",
        "print('Решение уравнения:', x)\n",
        "print('Количество итераций:', len(vals))\n",
        "print('Зависимость погрешности вычислений от количества итераций:')\n",
        "plt.plot(vals);"
      ],
      "metadata": {
        "id": "grnst_AeIjDA",
        "colab": {
          "base_uri": "https://localhost:8080/",
          "height": 317
        },
        "outputId": "545ace20-3210-482d-b5e0-2e28dfd0c40c"
      },
      "execution_count": null,
      "outputs": [
        {
          "output_type": "stream",
          "name": "stdout",
          "text": [
            "Решение уравнения: 1.5738240335890754\n",
            "Количество итераций: 26\n",
            "Зависимость погрешности вычислений от количества итераций:\n"
          ]
        },
        {
          "output_type": "display_data",
          "data": {
            "text/plain": [
              "<Figure size 432x288 with 1 Axes>"
            ],
            "image/png": "[encoded data removed]"
          },
          "metadata": {
            "needs_background": "light"
          }
        }
      ]
    },
    {
      "cell_type": "markdown",
      "source": [
        "##### Метод Ньютона"
      ],
      "metadata": {
        "id": "b4e4oE4ZNFUm"
      }
    },
    {
      "cell_type": "code",
      "source": [
        "def newton_tangent(f, a, b, e = 0.001):\n",
        "    df_dx = d_dx(f)\n",
        "    d2f_dx2 = d_dx(df_dx)\n",
        "    der_sign1 = df_dx(np.linspace(a, b, 15)) > 0\n",
        "    der_sign2 = d2f_dx2(np.linspace(a, b, 15)) > 0\n",
        "    if any(der_sign1) and not all(der_sign1):\n",
        "        print('Знак первой производной не постоянен')\n",
        "        return\n",
        "    if any(der_sign2) and not all(der_sign2):\n",
        "        print('Знак второй производной не постоянен')\n",
        "        return\n",
        "    if f(a) > 0 and f(b) > 0 or f(a) < 0 and f(b) < 0:\n",
        "        return\n",
        "    x = b\n",
        "    if f(x) > 0 and d2f_dx2(x) < 0 or f(x) < 0 and d2f_dx2(x) > 0:\n",
        "        print('Неудачно выбрано начальное приближение')\n",
        "        return\n",
        "    vals = []\n",
        "    while True:\n",
        "        x_prev, x = x, x - f(x) / df_dx(x)\n",
        "        vals.append(x)\n",
        "        if abs(x - x_prev) < e:\n",
        "            break\n",
        "    return x, vals"
      ],
      "metadata": {
        "id": "3LbB41UmKxEo"
      },
      "execution_count": null,
      "outputs": []
    },
    {
      "cell_type": "code",
      "source": [
        "x, vals = newton_tangent(f, a, b, 1e-10)\n",
        "vals = np.abs(np.array(vals) - x)\n",
        "print('Решение уравнения:', x)\n",
        "print('Количество итераций:', len(vals))\n",
        "print('Зависимость погрешности вычислений от количества итераций:')\n",
        "plt.plot(vals);"
      ],
      "metadata": {
        "colab": {
          "base_uri": "https://localhost:8080/",
          "height": 317
        },
        "id": "XkoWCJQ4SqpX",
        "outputId": "748ffad2-aead-4535-e041-b534af9112e6"
      },
      "execution_count": null,
      "outputs": [
        {
          "output_type": "stream",
          "name": "stdout",
          "text": [
            "Решение уравнения: 1.573828923644949\n",
            "Количество итераций: 5\n",
            "Зависимость погрешности вычислений от количества итераций:\n"
          ]
        },
        {
          "output_type": "display_data",
          "data": {
            "text/plain": [
              "<Figure size 432x288 with 1 Axes>"
            ],
            "image/png": "[encoded data removed]"
          },
          "metadata": {
            "needs_background": "light"
          }
        }
      ]
    },
    {
      "cell_type": "markdown",
      "source": [
        "#### 2. Реализовать методы простой итерации и Ньютона решения систем нелинейных уравнений в виде программного кода, задавая в качестве входных данных точность вычислений. С использованием разработанного программного обеспечения решить систему нелинейных уравнений (при наличии нескольких решений найти то из них, в котором значения неизвестных являются положительными); начальное приближение определить графически. Проанализировать зависимость погрешности вычислений от количества итераций."
      ],
      "metadata": {
        "id": "t_wDziY9vZ6i"
      }
    },
    {
      "cell_type": "code",
      "source": [
        "def d_dx1(f, e = 0.0001):\n",
        "    return lambda x1, x2: (f(x1+e, x2) - f(x1, x2)) / e\n",
        "def d_dx2(f, e = 0.0001):\n",
        "    return lambda x1, x2: (f(x1, x2+e) - f(x1, x2)) / e\n",
        "def norm_c(a):\n",
        "    a = np.asarray(a).T\n",
        "    if hasattr(a[0], '__iter__'):\n",
        "        a = [sum(abs(ai)) for ai in a]\n",
        "    return max(a)\n",
        "class FuncMatrix:\n",
        "    def __init__(self, M):\n",
        "        self.M = M\n",
        "    def __call__(self, x1, x2):\n",
        "        return [[self.M[0][0](x1, x2), self.M[0][1](x1, x2)],\n",
        "                [self.M[1][0](x1, x2), self.M[1][1](x1, x2)]]"
      ],
      "metadata": {
        "id": "X-6VNrPFxd_d"
      },
      "execution_count": null,
      "outputs": []
    },
    {
      "cell_type": "code",
      "source": [
        "f1 = lambda x1, x2: (x1**2 + 4) * x2 - 8\n",
        "f2 = lambda x1, x2: (x1 - 1)**2 + (x2 - 1)**2 - 4\n",
        "\n",
        "h2 = lambda x1, x2: 8 / (x1**2 + 4)\n",
        "h1 = lambda x1, x2: sqrt(4 - (x2 - 1)**2) + 1\n",
        "\n",
        "a, b = [2, 4], [0, 2]"
      ],
      "metadata": {
        "id": "sgPOEzeSvbyJ"
      },
      "execution_count": null,
      "outputs": []
    },
    {
      "cell_type": "markdown",
      "source": [
        "##### Метод Ньютона"
      ],
      "metadata": {
        "id": "GeGidp8ZA7pK"
      }
    },
    {
      "cell_type": "code",
      "source": [
        "def newton_system(f1, f2, a, b, e = 0.001):\n",
        "    J = FuncMatrix([[d_dx1(f1), d_dx2(f1)],\n",
        "                    [d_dx1(f2), d_dx2(f2)]])\n",
        "    A1 = FuncMatrix([[f1, d_dx2(f1)],\n",
        "                     [f2, d_dx2(f2)]])\n",
        "    A2 = FuncMatrix([[d_dx1(f1), f1],\n",
        "                     [d_dx1(f2), f2]])\n",
        "    x = np.array([(a[0] + a[1]) / 2, (b[0] + b[1]) / 2])\n",
        "    vals = []\n",
        "    while True:\n",
        "        x_prev = x.copy()\n",
        "        vals.append(x)\n",
        "        x[0], x[1] = x[0] - np.linalg.det(A1(x[0], x[1])) / np.linalg.det(J(x[0], x[1])), x[1] - np.linalg.det(A2(x[0], x[1])) / np.linalg.det(J(x[0], x[1]))\n",
        "        if norm_c(x - x_prev) <= e:\n",
        "            break\n",
        "    return x, vals"
      ],
      "metadata": {
        "id": "M6LGpmYGxNcC"
      },
      "execution_count": null,
      "outputs": []
    },
    {
      "cell_type": "code",
      "source": [
        "x, vals = newton_system(f1, f2, a, b, 1e-9)\n",
        "vals = [norm_c(x) for x in np.abs(np.array(vals) - np.array(x))]\n",
        "print('Решение уравнения: ', end='')\n",
        "print_x_solution(x)\n",
        "print('Количество итераций:', len(vals))\n",
        "print('Зависимость погрешности вычислений от количества итераций:')\n",
        "plt.plot(vals);"
      ],
      "metadata": {
        "colab": {
          "base_uri": "https://localhost:8080/",
          "height": 317
        },
        "id": "ZV3368Py89Ac",
        "outputId": "a9563882-01bc-4cae-9378-e1f95e6e68cd"
      },
      "execution_count": null,
      "outputs": [
        {
          "output_type": "stream",
          "name": "stdout",
          "text": [
            "Решение уравнения: x₁ = 2.965;  x₂ = 0.626;  \n",
            "Количество итераций: 5\n",
            "Зависимость погрешности вычислений от количества итераций:\n"
          ]
        },
        {
          "output_type": "display_data",
          "data": {
            "text/plain": [
              "<Figure size 432x288 with 1 Axes>"
            ],
            "image/png": "[encoded data removed]"
          },
          "metadata": {
            "needs_background": "light"
          }
        }
      ]
    },
    {
      "cell_type": "markdown",
      "source": [
        "##### Метод простых итераций"
      ],
      "metadata": {
        "id": "kN0MCm30A96k"
      }
    },
    {
      "cell_type": "code",
      "source": [
        "def simple_iter_system(f1, f2, a, b, e = 0.001):\n",
        "    phi = FuncMatrix([[d_dx1(f1), d_dx2(f1)],\n",
        "                      [d_dx1(f2), d_dx2(f2)]])\n",
        "    xy_grid = np.mgrid[a[0]:a[1]:15j, b[0]:b[1]:15j].reshape(2, -1).T\n",
        "    q = max([norm_c(phi(x, y)) for x, y in xy_grid])\n",
        "    if q >= 1:\n",
        "        print('Не выполнено условие сходимости')\n",
        "        return\n",
        "    x = np.array([(a[0] + a[1]) / 2, (b[0] + b[1]) / 2])\n",
        "    vals = []\n",
        "    while True:\n",
        "        x_prev = x.copy()\n",
        "        vals.append(x)\n",
        "        x[0], x[1] = f1(x[0], x[1]), f2(x[0], x[1])\n",
        "        if norm_c(x - x_prev) * q / (1 - q) <= e:\n",
        "            break\n",
        "    return x, vals"
      ],
      "metadata": {
        "id": "OBLhxCOy9MJU"
      },
      "execution_count": null,
      "outputs": []
    },
    {
      "cell_type": "code",
      "source": [
        "x, vals = simple_iter_system(h1, h2, a, b, 1e-19)\n",
        "vals = [norm_c(x) for x in np.abs(np.array(vals) - np.array(x))]\n",
        "print('Решение уравнения: ', end='')\n",
        "print_x_solution(x)\n",
        "print('Количество итераций:', len(vals))"
      ],
      "metadata": {
        "colab": {
          "base_uri": "https://localhost:8080/"
        },
        "id": "6zkDw_01HdoO",
        "outputId": "cc96da84-3adb-4280-8296-fcd3abfa1e1c"
      },
      "execution_count": null,
      "outputs": [
        {
          "output_type": "stream",
          "name": "stdout",
          "text": [
            "Решение уравнения: x₁ = 3;  x₂ = 0.615;  \n",
            "Количество итераций: 1\n"
          ]
        }
      ]
    }
  ],
  "metadata": {
    "colab": {
      "collapsed_sections": [
        "mnmDfQZO_IDL",
        "3hs8cUjSM_8O"
      ],
      "provenance": [],
      "authorship_tag": "ABX9TyPehixnRk8UtDNZHJGZWUZD",
      "include_colab_link": true
    },
    "kernelspec": {
      "display_name": "Python 3",
      "name": "python3"
    },
    "language_info": {
      "name": "python"
    }
  },
  "nbformat": 4,
  "nbformat_minor": 0
}