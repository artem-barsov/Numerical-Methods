{
  "nbformat": 4,
  "nbformat_minor": 0,
  "metadata": {
    "colab": {
      "provenance": [],
      "collapsed_sections": [
        "2PyQkuH7FCnN",
        "FjrVhrDPfzNu",
        "Y2xHUy0xf3K9",
        "1Q-NSeDeTxlv",
        "gHmmfO5FDsGa",
        "y6kJ4cSlNvgT"
      ],
      "authorship_tag": "ABX9TyNJOazwH1aDd9Gp8IOSelvr",
      "include_colab_link": true
    },
    "kernelspec": {
      "name": "python3",
      "display_name": "Python 3"
    },
    "language_info": {
      "name": "python"
    }
  },
  "cells": [
    {
      "cell_type": "markdown",
      "metadata": {
        "id": "view-in-github",
        "colab_type": "text"
      },
      "source": [
        "<a href=\"https://colab.research.google.com/github/artem-barsov/Numerical-Methods/blob/main/lab3.ipynb\" target=\"_parent\"><img src=\"https://colab.research.google.com/assets/colab-badge.svg\" alt=\"Open In Colab\"/></a>"
      ]
    },
    {
      "cell_type": "code",
      "execution_count": null,
      "metadata": {
        "id": "u7a7c020Eb9V"
      },
      "outputs": [],
      "source": [
        "import numpy as np\n",
        "from math import sin, pi, log\n",
        "import matplotlib.pyplot as plt\n",
        "from bisect import bisect\n",
        "from prettytable import PrettyTable"
      ]
    },
    {
      "cell_type": "markdown",
      "source": [
        "#### 1. Используя таблицу значений $Y_i$ функции $y=f(x)$, вычисленных в точках $X_i, i=0,...,3$ построить интерполяционные многочлены Лагранжа и Ньютона, проходящие через точки ${X_i, Y_i}$.  Вычислить значение погрешности интерполяции в точке $X^*$."
      ],
      "metadata": {
        "id": "2PyQkuH7FCnN"
      }
    },
    {
      "cell_type": "code",
      "source": [
        "f = lambda x: sin(x)\n",
        "x1 = [0.1*pi, 0.2*pi, 0.3*pi, 0.4*pi]\n",
        "x2 = [0.1*pi, pi/6, 0.3*pi, 0.4*pi]\n",
        "y1 = [f(x) for x in x1]\n",
        "y2 = [f(x) for x in x2]\n",
        "X = pi / 4"
      ],
      "metadata": {
        "id": "z_7nVyMlFE-s"
      },
      "execution_count": null,
      "outputs": []
    },
    {
      "cell_type": "markdown",
      "source": [
        "##### Метод Лагранжа"
      ],
      "metadata": {
        "id": "FjrVhrDPfzNu"
      }
    },
    {
      "cell_type": "code",
      "source": [
        "def Lagrange_polynomial(x, y):\n",
        "    class FunctorList:\n",
        "        def __init__(self, func_list):\n",
        "            self.func_list = func_list\n",
        "        def __call__(self, X):\n",
        "            return np.array([func(X) for func in self.func_list])\n",
        "    x, y = np.array(x), np.array(y)\n",
        "    n = len(x)\n",
        "    func_part = FunctorList([lambda X, i=i: (np.array([X]*(n-1)) - np.concatenate((x[:i], x[i+1:]))).prod() for i in range(n)])\n",
        "    omega_der = [(np.array([x[i]]*(len(x)-1)) - np.concatenate((x[:i], x[i+1:]))).prod() for i in range(n)]\n",
        "    const_part = y / np.array(omega_der)\n",
        "    return lambda X: (const_part * func_part(X)).sum()"
      ],
      "metadata": {
        "id": "lIXFxWBmHEk0"
      },
      "execution_count": null,
      "outputs": []
    },
    {
      "cell_type": "code",
      "source": [
        "P = np.vectorize(Lagrange_polynomial(x1, y1))\n",
        "f = np.vectorize(f)\n",
        "x_grid = np.linspace(-0.6*pi, 1.2*pi, 100)\n",
        "plt.plot(x_grid, P(x_grid))\n",
        "plt.plot(x_grid, f(x_grid))\n",
        "plt.plot([X, X], [P(X), f(X)], marker='o')\n",
        "plt.scatter(x1, y1)\n",
        "plt.show()\n",
        "print(f'P({X}) = {P(X)}')\n",
        "print(f'f({X}) = {f(X)}')\n",
        "print('Абсолютная погрешность интерполяции составляет', abs(P(X) - f(X)))"
      ],
      "metadata": {
        "colab": {
          "base_uri": "https://localhost:8080/"
        },
        "id": "qkzdrDLFIyHx",
        "outputId": "b2a28e97-b794-46ae-b5c2-1b499dbdc411"
      },
      "execution_count": null,
      "outputs": [
        {
          "output_type": "display_data",
          "data": {
            "text/plain": [
              "<Figure size 432x288 with 1 Axes>"
            ],
            "image/png": "[encoded data removed]"
          },
          "metadata": {
            "needs_background": "light"
          }
        },
        {
          "output_type": "stream",
          "name": "stdout",
          "text": [
            "P(0.7853981633974483) = 0.7069466693335428\n",
            "f(0.7853981633974483) = 0.7071067811865475\n",
            "Абсолютная погрешность интерполяции составляет 0.00016011185300468522\n"
          ]
        }
      ]
    },
    {
      "cell_type": "markdown",
      "source": [
        "##### Метод Ньютона"
      ],
      "metadata": {
        "id": "Y2xHUy0xf3K9"
      }
    },
    {
      "cell_type": "code",
      "source": [
        "def Newton_polynomial(x, y):\n",
        "    x, y = np.array(x), np.array(y)\n",
        "    n = len(x)\n",
        "    f = [y]\n",
        "    for i in range(1, n):\n",
        "        f.append(np.array([(f[-1][j] - f[-1][j+1]) / (x[j] - x[i+j]) for j in range(n-i)]))\n",
        "    def ret(X):\n",
        "        ans = f[0][0]\n",
        "        acc = 1\n",
        "        for i in range(n-1):\n",
        "            acc *= X - x[i]\n",
        "            ans += acc * f[i+1][0]\n",
        "        return ans\n",
        "    return ret"
      ],
      "metadata": {
        "id": "E2sg8F5Sd0_V"
      },
      "execution_count": null,
      "outputs": []
    },
    {
      "cell_type": "code",
      "source": [
        "P = np.vectorize(Newton_polynomial(x2, y2))\n",
        "f = np.vectorize(f)\n",
        "x_grid = np.linspace(-0.6*pi, 1.2*pi, 100)\n",
        "plt.plot(x_grid, P(x_grid))\n",
        "plt.plot(x_grid, f(x_grid))\n",
        "plt.plot([X, X], [P(X), f(X)], marker='o')\n",
        "plt.scatter(x2, y2)\n",
        "plt.show()\n",
        "print(f'P({X}) = {P(X)}')\n",
        "print(f'f({X}) = {f(X)}')\n",
        "print('Абсолютная погрешность интерполяции составляет', abs(P(X) - f(X)))"
      ],
      "metadata": {
        "colab": {
          "base_uri": "https://localhost:8080/"
        },
        "id": "QEHeiN-OABNs",
        "outputId": "a6ad4177-1273-4efe-c868-8e93256f7a8e"
      },
      "execution_count": null,
      "outputs": [
        {
          "output_type": "display_data",
          "data": {
            "text/plain": [
              "<Figure size 432x288 with 1 Axes>"
            ],
            "image/png": "[encoded data removed]"
          },
          "metadata": {
            "needs_background": "light"
          }
        },
        {
          "output_type": "stream",
          "name": "stdout",
          "text": [
            "P(0.7853981633974483) = 0.7068457655581607\n",
            "f(0.7853981633974483) = 0.7071067811865475\n",
            "Абсолютная погрешность интерполяции составляет 0.0002610156283867626\n"
          ]
        }
      ]
    },
    {
      "cell_type": "markdown",
      "source": [
        "#### 2. Построить кубический сплайн для функции, заданной в узлах интерполяции, предполагая, что сплайн имеет нулевую кривизну при $x=x_0$ и $x=x_4$. Вычислить значение функции в точке $x=X^*$."
      ],
      "metadata": {
        "id": "1Q-NSeDeTxlv"
      }
    },
    {
      "cell_type": "code",
      "source": [
        "x = [0, 1, 2, 3, 4]\n",
        "y = [0.0, 0.5, 0.86603, 1.0, 0.86603]\n",
        "X = 1.5"
      ],
      "metadata": {
        "id": "nF4QoH0mT9us"
      },
      "execution_count": null,
      "outputs": []
    },
    {
      "cell_type": "code",
      "source": [
        "def tridiagonal_algo(A, b):\n",
        "    alfa = [0] + [A[i+1][i] for i in range(len(A)-1)]\n",
        "    beta = [-A[i][i] for i in range(len(A))]\n",
        "    gamma = [A[i][i+1] for i in range(len(A)-1)] + [0]\n",
        "    P = [gamma[0] / beta[0]]\n",
        "    Q = [-b[0] / beta[0]]\n",
        "    for i in range(1, len(A)-1):\n",
        "        P.append(gamma[i] / (beta[i] - alfa[i] * P[i-1]))\n",
        "        Q.append((alfa[i] * Q[i-1] - b[i]) / (beta[i] - alfa[i] * P[i-1]))\n",
        "    x = [(alfa[-1] * Q[-1] - b[-1]) / (beta[-1] - alfa[-1] * P[-1])]\n",
        "    for i in range(len(A)-2, -1, -1):\n",
        "        x.append(P[i] * x[-1] + Q[i])\n",
        "    return x[::-1]"
      ],
      "metadata": {
        "id": "D7KkmY0AjZ9T"
      },
      "execution_count": null,
      "outputs": []
    },
    {
      "cell_type": "code",
      "source": [
        "def Cubic_spline(x, y):\n",
        "    n = len(x)\n",
        "    h = [0] + [x[i]-x[i-1] for i in range(1, n)]\n",
        "    k = [[h[i-1], 2*(h[i-1]+h[i]), h[i]] for i in range(2, n)]\n",
        "    v = [3 * ((y[i]-y[i-1])/h[i] - (y[i-1]-y[i-2])/h[i-1]) for i in range(2, n)]\n",
        "    A = np.array([[0]*len(k)]*len(k))\n",
        "    for i in range(len(A)-1):\n",
        "        A[i+1][i] = k[i+1][0]\n",
        "    for i in range(len(A)):\n",
        "        A[i][i] = k[i][1]\n",
        "    for i in range(len(A)-1):\n",
        "        A[i][i+1] = k[i][2]\n",
        "    c = [0,0] + tridiagonal_algo(A, v)\n",
        "    a = [0,0] + y[1:-1]\n",
        "    b = [0] + [(y[i] - y[i-1]) / h[i] - h[i] * (c[i+1] + 2*c[i]) / 3 for i in range(1, n-1)] + [(y[n-1] - y[n-2]) / h[n-1] - 2/3 * h[n-1]*c[n-1]]\n",
        "    d = [0] + [(c[i+1] - c[i]) / (3 * h[i]) for i in range(1, n-1)] + [-c[n-1]/(3*h[n-1])]\n",
        "    xx = [0] + [(x[i], x[i+1]) for i in range(n-1)]\n",
        "    spline_table = list(zip(xx[1:], a[1:], b[1:], c[1:], d[1:]))\n",
        "    def f(a, t):\n",
        "        b = 0\n",
        "        for ai in a: b = ai + b*t\n",
        "        return b\n",
        "    def func(X):\n",
        "        for line in spline_table:\n",
        "            if line[0][0] <= X <= line[0][1]:\n",
        "                return f(line[1:][::-1], X - line[0][0])\n",
        "    return func"
      ],
      "metadata": {
        "id": "xVERtV4rUaav"
      },
      "execution_count": null,
      "outputs": []
    },
    {
      "cell_type": "code",
      "source": [
        "P = np.vectorize(Cubic_spline(x, y))\n",
        "x_grid = np.linspace(x[0], x[-1], 100)\n",
        "plt.plot(x_grid, P(x_grid))\n",
        "plt.scatter(x, y)\n",
        "plt.scatter(X, P(X))\n",
        "plt.show()\n",
        "print(f'P({X}) = {P(X)}')"
      ],
      "metadata": {
        "colab": {
          "base_uri": "https://localhost:8080/",
          "height": 282
        },
        "id": "kncJIW_JkHsL",
        "outputId": "e9078720-05c2-48ea-f34c-0d6d6519cea7"
      },
      "execution_count": null,
      "outputs": [
        {
          "output_type": "display_data",
          "data": {
            "text/plain": [
              "<Figure size 432x288 with 1 Axes>"
            ],
            "image/png": "[encoded data removed]"
          },
          "metadata": {
            "needs_background": "light"
          }
        },
        {
          "output_type": "stream",
          "name": "stdout",
          "text": [
            "P(1.5) = 0.70614828125\n"
          ]
        }
      ]
    },
    {
      "cell_type": "markdown",
      "source": [
        "#### 3. Для таблично заданной функции путем решения нормальной системы МНК найти приближающие многочлены a) 1-ой  и б) 2-ой степени. Для каждого из приближающих многочленов вычислить сумму квадратов ошибок. Построить графики приближаемой функции и приближающих многочленов."
      ],
      "metadata": {
        "id": "gHmmfO5FDsGa"
      }
    },
    {
      "cell_type": "code",
      "source": [
        "x = [-1, 0, 1, 2, 3, 4]\n",
        "y = [-0.5, 0.0, 0.5, 0.86603, 1.0, 0.86603]"
      ],
      "metadata": {
        "id": "igmotNaVDxuL"
      },
      "execution_count": null,
      "outputs": []
    },
    {
      "cell_type": "code",
      "source": [
        "class LU:\n",
        "    EPS = 1e-6\n",
        "\n",
        "    def __init__(self, U):\n",
        "        L = np.eye(len(U), dtype=float)\n",
        "        isDetNeg = False\n",
        "        permut = np.array(range(len(U)))\n",
        "        for i in range(len(U)):\n",
        "            max_idx = i\n",
        "            for j in range(i + 1, len(U)):\n",
        "                if abs(U[max_idx][i]) < abs(U[j][i]):\n",
        "                    max_idx = j\n",
        "            if max_idx != i:\n",
        "                U[[i, max_idx]] = U[[max_idx, i]]\n",
        "                L[[i, max_idx]] = L[[max_idx, i]]\n",
        "                L[:, [i, max_idx]] = L[:, [max_idx, i]]\n",
        "                isDetNeg = not isDetNeg\n",
        "                permut[[i, max_idx]] = permut[[max_idx, i]]\n",
        "            if abs(U[i][i]) < self.EPS: continue\n",
        "            for j in range(i + 1, len(U)):\n",
        "                mu = U[j][i] / U[i][i]\n",
        "                L[j][i] = mu\n",
        "                for k in range(len(U)):\n",
        "                    U[j][k] -= mu * U[i][k]\n",
        "        det = U.diagonal().prod()\n",
        "        if isDetNeg: det = -det\n",
        "        self._permut = permut\n",
        "        self.L = L\n",
        "        self.U = U\n",
        "        self.det = det\n",
        "\n",
        "    def solve(self, b):\n",
        "        b = np.array([ b[pi] for pi in self._permut ], dtype=float)\n",
        "        z = np.array([0] * len(b), dtype=float)\n",
        "        for i in range(len(b)):\n",
        "            z[i] = b[i]\n",
        "            for j in range(i):\n",
        "                z[i] -= self.L[i, j] * z[j]\n",
        "        x = np.array([0] * len(b), dtype=float)\n",
        "        for i in range(len(b)-1, -1, -1):\n",
        "            if abs(self.U[i, i]) < self.EPS: continue\n",
        "            x[i] = z[i]\n",
        "            for j in range(len(b)-1, i, -1):\n",
        "                x[i] -= x[j] * self.U[i, j]\n",
        "            x[i] /= self.U[i, i]\n",
        "        return x\n",
        "\n",
        "    def inverse(self):\n",
        "        n = len(self.L)\n",
        "        ret = np.matrix([[0] * n] * n, dtype=float)\n",
        "        for i in range(n):\n",
        "            b = np.array([0] * n, dtype=float)\n",
        "            b[i] = 1\n",
        "            ret[:, i] = np.matrix(self.solve(b)).T\n",
        "        return ret"
      ],
      "metadata": {
        "id": "uS0UIN6I1bHc"
      },
      "execution_count": null,
      "outputs": []
    },
    {
      "cell_type": "code",
      "source": [
        "def least_square_method(x, y, deg=1):\n",
        "    x, y = np.array(x), np.array(y)\n",
        "    xk = np.array([1.0]*len(x))\n",
        "    A = np.array([[0.0]*(deg+1)]*(deg+1))\n",
        "    b = [y.sum()]\n",
        "    A[0][0] = len(x)\n",
        "    for i in range(1, 2*deg+1):\n",
        "        xk *= x\n",
        "        sx = xk.sum()\n",
        "        if i <= deg:\n",
        "            b.append((y * xk).sum())\n",
        "            for j in range(i+1):\n",
        "                A[-j-(deg-i)-1][j] = sx\n",
        "        else:\n",
        "            for j in range(2*deg-i+1):\n",
        "                A[-j-1][j+i-deg] = sx\n",
        "    a = LU(A).solve(b)\n",
        "    def f(a, t):\n",
        "        b = 0\n",
        "        for ai in a:\n",
        "            b = ai + b*t\n",
        "        return b\n",
        "    return lambda X: f(a[::-1], X)"
      ],
      "metadata": {
        "id": "IBKuIm6zEG60"
      },
      "execution_count": null,
      "outputs": []
    },
    {
      "cell_type": "code",
      "source": [
        "def square_error(y, p):\n",
        "    return sum([(y[i]-p[i])**2 for i in range(len(y))])"
      ],
      "metadata": {
        "id": "b_1wE9jsp0Oz"
      },
      "execution_count": null,
      "outputs": []
    },
    {
      "cell_type": "code",
      "source": [
        "P1 = np.vectorize(least_square_method(x, y, 1))\n",
        "P2 = np.vectorize(least_square_method(x, y, 2))\n",
        "x_grid = np.linspace(2*x[0]-x[1], 2*x[-1]-x[-2], 100)\n",
        "plt.plot(x_grid, P1(x_grid))\n",
        "plt.plot(x_grid, P2(x_grid))\n",
        "plt.scatter(x, y)\n",
        "plt.show()\n",
        "print('Сумма квадратов ошибок многочлена степени 1:', square_error(y, P1(x)))\n",
        "print('Сумма квадратов ошибок многочлена степени 2:', square_error(y, P2(x)))"
      ],
      "metadata": {
        "colab": {
          "base_uri": "https://localhost:8080/",
          "height": 300
        },
        "id": "-Br03jZfwenJ",
        "outputId": "d264e0a7-e853-4564-b1db-3da7789a0d23"
      },
      "execution_count": null,
      "outputs": [
        {
          "output_type": "display_data",
          "data": {
            "text/plain": [
              "<Figure size 432x288 with 1 Axes>"
            ],
            "image/png": "[encoded data removed]"
          },
          "metadata": {
            "needs_background": "light"
          }
        },
        {
          "output_type": "stream",
          "name": "stdout",
          "text": [
            "Сумма квадратов ошибок многочлена степени 1: 0.2708179489276191\n",
            "Сумма квадратов ошибок многочлена степени 2: 0.015178925583571425\n"
          ]
        }
      ]
    },
    {
      "cell_type": "markdown",
      "source": [
        "#### 4. Вычислить первую и вторую производную от таблично заданной функции $y_i=f(x_i), i=0,1,2,3,4$ в точке $x=X^*$."
      ],
      "metadata": {
        "id": "y6kJ4cSlNvgT"
      }
    },
    {
      "cell_type": "code",
      "source": [
        "x = [-1, 0, 1, 2, 3]\n",
        "y = [-0.5, 0.0, 0.50, 0.86603, 1.0]\n",
        "# y = [0, 1.483, 2.739, 3.782, 4.647, 5.437, 6.363, 7.723, 9.749, 12.314, 14.659,\n",
        "#      15.538, 14.109, 11.222, 9.578, 11.331, 14.75, 15.096, 11.393, 9.66, 13.403]\n",
        "# x = np.linspace(0, 4, len(y))\n",
        "X = 1"
      ],
      "metadata": {
        "id": "Wn-KdHnH3K7t"
      },
      "execution_count": null,
      "outputs": []
    },
    {
      "cell_type": "code",
      "source": [
        "def derivative(x, y):\n",
        "    def f(X):\n",
        "        li, ri = max(0, bisect(x, X)-1), min(len(x)-1, bisect(x, X))\n",
        "        i = li if X - x[li] < x[ri] - X else ri\n",
        "        if i == 0: i += 1\n",
        "        elif i == len(x)-1: i -=1\n",
        "        return (y[i]-y[i-1])/(x[i]-x[i-1]) + ((y[i+1]-y[i])/(x[i+1]-x[i]) - (y[i]-y[i-1])/(x[i]-x[i-1]))/(x[i+1]-x[i-1]) * (2*X-x[i-1]-x[i])\n",
        "    return f"
      ],
      "metadata": {
        "id": "2oTN4L1MO05k"
      },
      "execution_count": null,
      "outputs": []
    },
    {
      "cell_type": "code",
      "source": [
        "def derivative_2(x, y):\n",
        "    def f(X):\n",
        "        li, ri = max(0, bisect(x, X)-1), min(len(x)-1, bisect(x, X))\n",
        "        i = li if X - x[li] < x[ri] - X else ri\n",
        "        if i == 0: i += 1\n",
        "        elif i == len(x)-1: i -=1\n",
        "        return 2 * ((y[i+1]-y[i])/(x[i+1]-x[i])-(y[i]-y[i-1])/(x[i]-x[i-1]))/(x[i+1]-x[i-1])\n",
        "    return f"
      ],
      "metadata": {
        "id": "uepHD3sWkB3V"
      },
      "execution_count": null,
      "outputs": []
    },
    {
      "cell_type": "code",
      "source": [
        "df = np.vectorize(derivative(x, y))\n",
        "d2f = np.vectorize(derivative_2(x, y))\n",
        "x_grid = np.linspace(x[0], x[-1], 100)\n",
        "plt.axhline(0, color='black', linewidth=0.4)\n",
        "plt.plot(x, df(x))\n",
        "plt.plot(x, d2f(x))\n",
        "# plt.plot(x_grid, df(x_grid))\n",
        "# plt.plot(x_grid, d2f(x_grid))\n",
        "plt.scatter(x, y)\n",
        "plt.show()\n",
        "print(f'f\\'({X}) = {df(X)}')\n",
        "print(f'f\\'\\'({X}) = {d2f(X)}')"
      ],
      "metadata": {
        "colab": {
          "base_uri": "https://localhost:8080/",
          "height": 300
        },
        "id": "QWKsr5FNQ9si",
        "outputId": "51084121-72c9-486c-df60-ad0eac4b767a"
      },
      "execution_count": null,
      "outputs": [
        {
          "output_type": "display_data",
          "data": {
            "text/plain": [
              "<Figure size 432x288 with 1 Axes>"
            ],
            "image/png": "[encoded data removed]"
          },
          "metadata": {
            "needs_background": "light"
          }
        },
        {
          "output_type": "stream",
          "name": "stdout",
          "text": [
            "f'(1) = 0.433015\n",
            "f''(1) = -0.13397000000000003\n"
          ]
        }
      ]
    },
    {
      "cell_type": "code",
      "source": [
        "f_inter = np.vectorize(Newton_polynomial(x, y))\n",
        "df = np.vectorize(derivative(x, y))\n",
        "df_inter = np.vectorize(Newton_polynomial(x, df(x)))\n",
        "d2f = np.vectorize(derivative_2(x, y))\n",
        "d2f_inter = np.vectorize(Newton_polynomial(x, d2f(x)))\n",
        "x_grid = np.linspace(x[0], x[-1], 100)\n",
        "plt.axhline(0, color='black', linewidth=0.4)\n",
        "plt.plot(x_grid, df_inter(x_grid))\n",
        "plt.plot(x_grid, d2f_inter(x_grid))\n",
        "plt.plot(x_grid, f_inter(x_grid))\n",
        "plt.scatter(x, y)\n",
        "plt.show()"
      ],
      "metadata": {
        "colab": {
          "base_uri": "https://localhost:8080/",
          "height": 265
        },
        "id": "KpTHOgYbdwHj",
        "outputId": "c5254a8d-b1df-469c-b5e7-d4914377581a"
      },
      "execution_count": null,
      "outputs": [
        {
          "output_type": "display_data",
          "data": {
            "text/plain": [
              "<Figure size 432x288 with 1 Axes>"
            ],
            "image/png": "[encoded data removed]"
          },
          "metadata": {
            "needs_background": "light"
          }
        }
      ]
    },
    {
      "cell_type": "markdown",
      "source": [
        "#### 5. Вычислить определенный интеграл $F=\\int_{x_0}^{x_1}y\\ dx$ методами прямоугольников, трапеций, Симпсона с шагами $h_1, h_2$. Оценить погрешность вычислений, используя Ме­тод Рунге-Ромберга."
      ],
      "metadata": {
        "id": "bBkYT035Glas"
      }
    },
    {
      "cell_type": "code",
      "source": [
        "f = np.vectorize(lambda x: x / (2 * x + 5))\n",
        "x0, xk = -1, 1\n",
        "h1, h2 = 0.5, 0.25\n",
        "x1 = np.linspace(x0, xk, int((xk - x0) / h1)+1)\n",
        "x2 = np.linspace(x0, xk, int((xk - x0) / h2)+1)\n",
        "ans = -0.05912232548400452"
      ],
      "metadata": {
        "id": "WJa7_kiMPLmB"
      },
      "execution_count": null,
      "outputs": []
    },
    {
      "cell_type": "code",
      "source": [
        "def rectangle_method(x, f):\n",
        "    x = np.array(x)\n",
        "    h = x[1] - x[0]\n",
        "    f = np.vectorize(f)\n",
        "    return h * sum(f((x[:-1] + x[1:]) / 2))"
      ],
      "metadata": {
        "id": "i0JAjZKg0wQI"
      },
      "execution_count": null,
      "outputs": []
    },
    {
      "cell_type": "code",
      "source": [
        "def trapezoidal_method(x, f):\n",
        "    h = x[1] - x[0]\n",
        "    f = np.vectorize(f)\n",
        "    return h * ((f(x[0])+f(x[-1]))/2 + sum(f(x[1:-1])))"
      ],
      "metadata": {
        "id": "PKm5p_U5R-d0"
      },
      "execution_count": null,
      "outputs": []
    },
    {
      "cell_type": "code",
      "source": [
        "def Simpson_method(x, f):\n",
        "    x = np.array(x)\n",
        "    h = x[1] - x[0]\n",
        "    f = np.vectorize(f)\n",
        "    return h / 3 * (f(x[0]) - f(x[-1]) + 4*sum(f(x[1::2])) + 2*sum(f(x[2::2])))"
      ],
      "metadata": {
        "id": "ThtcLV4HTFtU"
      },
      "execution_count": null,
      "outputs": []
    },
    {
      "cell_type": "code",
      "source": [
        "def Runge_Romberg_Richardson_method(F_h, F_kh, k, p):\n",
        "    return F_h + (F_h - F_kh) / (k**p - 1)"
      ],
      "metadata": {
        "id": "WxxQTDCwavC_"
      },
      "execution_count": null,
      "outputs": []
    },
    {
      "cell_type": "code",
      "source": [
        "int1_rec = rectangle_method(x1, lambda x: x / (3*x+4)**2)\n",
        "int1_trp = trapezoidal_method(x1, lambda x: x / (3*x+4)**2)\n",
        "int1_sim = Simpson_method(x1, lambda x: x / (3*x+4)**2)\n",
        "int2_rec = rectangle_method(x2, lambda x: x / (3*x+4)**2)\n",
        "int2_trp = trapezoidal_method(x2, lambda x: x / (3*x+4)**2)\n",
        "int2_sim = Simpson_method(x2, lambda x: x / (3*x+4)**2)\n",
        "rrr1_rec = Runge_Romberg_Richardson_method(int1_rec, int2_rec, h2 / h1, 2)\n",
        "rrr1_trp = Runge_Romberg_Richardson_method(int1_trp, int2_trp, h2 / h1, 2)\n",
        "rrr1_sim = Runge_Romberg_Richardson_method(int1_sim, int2_sim, h2 / h1, 2)\n",
        "table = PrettyTable()\n",
        "table.field_names = ['Метод', f'Шаг h1 = {h1}', f'Шаг h2 = {h2}', 'Рунге-Ромберг-Ричардсон', 'Абс.погрешность']\n",
        "table.add_row(['Прямоугольников', int1_rec, int2_rec, rrr1_rec, abs(ans - rrr1_rec)])\n",
        "table.add_row(['Трапеций', int1_trp, int2_trp, rrr1_trp, abs(ans - rrr1_trp)])\n",
        "table.add_row(['Симпсона', int1_sim, int2_sim, rrr1_sim, abs(ans - rrr1_sim)])\n",
        "print(table)\n",
        "x2grid = [x2[0]-h2] + list(x2) + [x2[-1]+h2]\n",
        "plt.plot(x2grid, f(x2grid))\n",
        "plt.axhline(0, color='black', linewidth=0.4)\n",
        "plt.fill_between(x2grid, f(x2grid), where=[x2[0]<=xi<=x2[-1] for xi in x2grid], facecolor='0.9', edgecolor='0.5')\n",
        "plt.show()"
      ],
      "metadata": {
        "colab": {
          "base_uri": "https://localhost:8080/",
          "height": 390
        },
        "id": "_ldxnGAUeBGc",
        "outputId": "7ea7505b-c69f-4a7c-86d0-f743d3625362"
      },
      "execution_count": null,
      "outputs": [
        {
          "output_type": "stream",
          "name": "stdout",
          "text": [
            "+-----------------+----------------------+----------------------+-------------------------+---------------------+\n",
            "|      Метод      |     Шаг h1 = 0.5     |    Шаг h2 = 0.25     | Рунге-Ромберг-Ричардсон |   Абс.погрешность   |\n",
            "+-----------------+----------------------+----------------------+-------------------------+---------------------+\n",
            "| Прямоугольников | -0.1191431329134778  | -0.14931195938119501 |   -0.15936823487043408  | 0.10024590938642956 |\n",
            "|     Трапеций    | -0.2766334963737561  | -0.19788831464361695 |   -0.17163992073357054  | 0.11251759524956602 |\n",
            "|     Симпсона    | -0.20557935570922584 | -0.1716399207335706  |   -0.16032677574168552  |  0.101204450257681  |\n",
            "+-----------------+----------------------+----------------------+-------------------------+---------------------+\n"
          ]
        },
        {
          "output_type": "display_data",
          "data": {
            "text/plain": [
              "<Figure size 432x288 with 1 Axes>"
            ],
            "image/png": "[encoded data removed]"
          },
          "metadata": {
            "needs_background": "light"
          }
        }
      ]
    }
  ]
}